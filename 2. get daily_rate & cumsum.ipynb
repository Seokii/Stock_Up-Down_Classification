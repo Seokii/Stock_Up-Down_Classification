{
 "cells": [
  {
   "cell_type": "code",
   "execution_count": 1,
   "id": "6229405e",
   "metadata": {},
   "outputs": [],
   "source": [
    "import pandas as pd"
   ]
  },
  {
   "cell_type": "code",
   "execution_count": 2,
   "id": "af28ac5d",
   "metadata": {},
   "outputs": [],
   "source": [
    "df = pd.read_excel(\"samsung_price.xlsx\")"
   ]
  },
  {
   "cell_type": "code",
   "execution_count": 3,
   "id": "be3ddbe5",
   "metadata": {},
   "outputs": [
    {
     "data": {
      "text/html": [
       "<div>\n",
       "<style scoped>\n",
       "    .dataframe tbody tr th:only-of-type {\n",
       "        vertical-align: middle;\n",
       "    }\n",
       "\n",
       "    .dataframe tbody tr th {\n",
       "        vertical-align: top;\n",
       "    }\n",
       "\n",
       "    .dataframe thead th {\n",
       "        text-align: right;\n",
       "    }\n",
       "</style>\n",
       "<table border=\"1\" class=\"dataframe\">\n",
       "  <thead>\n",
       "    <tr style=\"text-align: right;\">\n",
       "      <th></th>\n",
       "      <th>날짜</th>\n",
       "      <th>종가</th>\n",
       "      <th>전일비</th>\n",
       "      <th>시가</th>\n",
       "      <th>고가</th>\n",
       "      <th>저가</th>\n",
       "      <th>거래량</th>\n",
       "    </tr>\n",
       "  </thead>\n",
       "  <tbody>\n",
       "    <tr>\n",
       "      <th>0</th>\n",
       "      <td>2022.03.23</td>\n",
       "      <td>70500</td>\n",
       "      <td>200</td>\n",
       "      <td>70600</td>\n",
       "      <td>71200</td>\n",
       "      <td>70300</td>\n",
       "      <td>12332242</td>\n",
       "    </tr>\n",
       "    <tr>\n",
       "      <th>1</th>\n",
       "      <td>2022.03.22</td>\n",
       "      <td>70300</td>\n",
       "      <td>400</td>\n",
       "      <td>69900</td>\n",
       "      <td>70500</td>\n",
       "      <td>69900</td>\n",
       "      <td>9402666</td>\n",
       "    </tr>\n",
       "    <tr>\n",
       "      <th>2</th>\n",
       "      <td>2022.03.21</td>\n",
       "      <td>69900</td>\n",
       "      <td>800</td>\n",
       "      <td>70900</td>\n",
       "      <td>71000</td>\n",
       "      <td>69900</td>\n",
       "      <td>11169002</td>\n",
       "    </tr>\n",
       "    <tr>\n",
       "      <th>3</th>\n",
       "      <td>2022.03.18</td>\n",
       "      <td>70700</td>\n",
       "      <td>500</td>\n",
       "      <td>70600</td>\n",
       "      <td>70900</td>\n",
       "      <td>70200</td>\n",
       "      <td>14410038</td>\n",
       "    </tr>\n",
       "    <tr>\n",
       "      <th>4</th>\n",
       "      <td>2022.03.17</td>\n",
       "      <td>71200</td>\n",
       "      <td>800</td>\n",
       "      <td>71200</td>\n",
       "      <td>71800</td>\n",
       "      <td>70900</td>\n",
       "      <td>17646315</td>\n",
       "    </tr>\n",
       "  </tbody>\n",
       "</table>\n",
       "</div>"
      ],
      "text/plain": [
       "           날짜     종가  전일비     시가     고가     저가       거래량\n",
       "0  2022.03.23  70500  200  70600  71200  70300  12332242\n",
       "1  2022.03.22  70300  400  69900  70500  69900   9402666\n",
       "2  2022.03.21  69900  800  70900  71000  69900  11169002\n",
       "3  2022.03.18  70700  500  70600  70900  70200  14410038\n",
       "4  2022.03.17  71200  800  71200  71800  70900  17646315"
      ]
     },
     "execution_count": 3,
     "metadata": {},
     "output_type": "execute_result"
    }
   ],
   "source": [
    "df.head()"
   ]
  },
  {
   "cell_type": "code",
   "execution_count": 4,
   "id": "6eea4f67",
   "metadata": {},
   "outputs": [
    {
     "data": {
      "text/plain": [
       "0       70500\n",
       "1       70300\n",
       "2       69900\n",
       "3       70700\n",
       "4       71200\n",
       "        ...  \n",
       "6458    68500\n",
       "6459    68100\n",
       "6460    66900\n",
       "6461    67700\n",
       "6462    67500\n",
       "Name: 종가, Length: 6463, dtype: int64"
      ]
     },
     "execution_count": 4,
     "metadata": {},
     "output_type": "execute_result"
    }
   ],
   "source": [
    "close = df['종가']\n",
    "close"
   ]
  },
  {
   "cell_type": "code",
   "execution_count": 5,
   "id": "b1a6dc94",
   "metadata": {},
   "outputs": [
    {
     "data": {
      "text/plain": [
       "0       70300.0\n",
       "1       69900.0\n",
       "2       70700.0\n",
       "3       71200.0\n",
       "4       70400.0\n",
       "         ...   \n",
       "6458    68100.0\n",
       "6459    66900.0\n",
       "6460    67700.0\n",
       "6461    67500.0\n",
       "6462        NaN\n",
       "Name: 종가, Length: 6463, dtype: float64"
      ]
     },
     "execution_count": 5,
     "metadata": {},
     "output_type": "execute_result"
    }
   ],
   "source": [
    "close.shift(-1)"
   ]
  },
  {
   "cell_type": "code",
   "execution_count": 17,
   "id": "bf8e5ccf",
   "metadata": {},
   "outputs": [
    {
     "data": {
      "text/plain": [
       "0       0.284495\n",
       "1       0.572246\n",
       "2      -1.131542\n",
       "3      -0.702247\n",
       "4       1.136364\n",
       "          ...   \n",
       "6458    0.587372\n",
       "6459    1.793722\n",
       "6460   -1.181684\n",
       "6461    0.296296\n",
       "6462         NaN\n",
       "Name: 종가, Length: 6463, dtype: float64"
      ]
     },
     "execution_count": 17,
     "metadata": {},
     "output_type": "execute_result"
    }
   ],
   "source": [
    "daily_rate = (close / close.shift(-1)-1)* 100\n",
    "daily_rate"
   ]
  },
  {
   "cell_type": "code",
   "execution_count": 7,
   "id": "d2bb0294",
   "metadata": {},
   "outputs": [],
   "source": [
    "daily_rate.iloc[-1] = 0"
   ]
  },
  {
   "cell_type": "code",
   "execution_count": 8,
   "id": "f5ffa1a1",
   "metadata": {},
   "outputs": [
    {
     "data": {
      "text/plain": [
       "6458    0.587372\n",
       "6459    1.793722\n",
       "6460   -1.181684\n",
       "6461    0.296296\n",
       "6462    0.000000\n",
       "Name: 종가, dtype: float64"
      ]
     },
     "execution_count": 8,
     "metadata": {},
     "output_type": "execute_result"
    }
   ],
   "source": [
    "daily_rate.tail()"
   ]
  },
  {
   "cell_type": "code",
   "execution_count": 9,
   "id": "f5a1a4be",
   "metadata": {},
   "outputs": [],
   "source": [
    "df['일간변동률(%)'] = daily_rate"
   ]
  },
  {
   "cell_type": "code",
   "execution_count": 10,
   "id": "e5d1c0f4",
   "metadata": {
    "scrolled": false
   },
   "outputs": [
    {
     "data": {
      "text/html": [
       "<div>\n",
       "<style scoped>\n",
       "    .dataframe tbody tr th:only-of-type {\n",
       "        vertical-align: middle;\n",
       "    }\n",
       "\n",
       "    .dataframe tbody tr th {\n",
       "        vertical-align: top;\n",
       "    }\n",
       "\n",
       "    .dataframe thead th {\n",
       "        text-align: right;\n",
       "    }\n",
       "</style>\n",
       "<table border=\"1\" class=\"dataframe\">\n",
       "  <thead>\n",
       "    <tr style=\"text-align: right;\">\n",
       "      <th></th>\n",
       "      <th>날짜</th>\n",
       "      <th>종가</th>\n",
       "      <th>전일비</th>\n",
       "      <th>시가</th>\n",
       "      <th>고가</th>\n",
       "      <th>저가</th>\n",
       "      <th>거래량</th>\n",
       "      <th>일간변동률(%)</th>\n",
       "    </tr>\n",
       "  </thead>\n",
       "  <tbody>\n",
       "    <tr>\n",
       "      <th>0</th>\n",
       "      <td>2022.03.23</td>\n",
       "      <td>70500</td>\n",
       "      <td>200</td>\n",
       "      <td>70600</td>\n",
       "      <td>71200</td>\n",
       "      <td>70300</td>\n",
       "      <td>12332242</td>\n",
       "      <td>0.284495</td>\n",
       "    </tr>\n",
       "    <tr>\n",
       "      <th>1</th>\n",
       "      <td>2022.03.22</td>\n",
       "      <td>70300</td>\n",
       "      <td>400</td>\n",
       "      <td>69900</td>\n",
       "      <td>70500</td>\n",
       "      <td>69900</td>\n",
       "      <td>9402666</td>\n",
       "      <td>0.572246</td>\n",
       "    </tr>\n",
       "    <tr>\n",
       "      <th>2</th>\n",
       "      <td>2022.03.21</td>\n",
       "      <td>69900</td>\n",
       "      <td>800</td>\n",
       "      <td>70900</td>\n",
       "      <td>71000</td>\n",
       "      <td>69900</td>\n",
       "      <td>11169002</td>\n",
       "      <td>-1.131542</td>\n",
       "    </tr>\n",
       "    <tr>\n",
       "      <th>3</th>\n",
       "      <td>2022.03.18</td>\n",
       "      <td>70700</td>\n",
       "      <td>500</td>\n",
       "      <td>70600</td>\n",
       "      <td>70900</td>\n",
       "      <td>70200</td>\n",
       "      <td>14410038</td>\n",
       "      <td>-0.702247</td>\n",
       "    </tr>\n",
       "    <tr>\n",
       "      <th>4</th>\n",
       "      <td>2022.03.17</td>\n",
       "      <td>71200</td>\n",
       "      <td>800</td>\n",
       "      <td>71200</td>\n",
       "      <td>71800</td>\n",
       "      <td>70900</td>\n",
       "      <td>17646315</td>\n",
       "      <td>1.136364</td>\n",
       "    </tr>\n",
       "    <tr>\n",
       "      <th>...</th>\n",
       "      <td>...</td>\n",
       "      <td>...</td>\n",
       "      <td>...</td>\n",
       "      <td>...</td>\n",
       "      <td>...</td>\n",
       "      <td>...</td>\n",
       "      <td>...</td>\n",
       "      <td>...</td>\n",
       "    </tr>\n",
       "    <tr>\n",
       "      <th>6458</th>\n",
       "      <td>1996.06.29</td>\n",
       "      <td>68500</td>\n",
       "      <td>400</td>\n",
       "      <td>68100</td>\n",
       "      <td>69100</td>\n",
       "      <td>67100</td>\n",
       "      <td>96710</td>\n",
       "      <td>0.587372</td>\n",
       "    </tr>\n",
       "    <tr>\n",
       "      <th>6459</th>\n",
       "      <td>1996.06.28</td>\n",
       "      <td>68100</td>\n",
       "      <td>1200</td>\n",
       "      <td>67300</td>\n",
       "      <td>68500</td>\n",
       "      <td>67200</td>\n",
       "      <td>138430</td>\n",
       "      <td>1.793722</td>\n",
       "    </tr>\n",
       "    <tr>\n",
       "      <th>6460</th>\n",
       "      <td>1996.06.27</td>\n",
       "      <td>66900</td>\n",
       "      <td>800</td>\n",
       "      <td>67500</td>\n",
       "      <td>67700</td>\n",
       "      <td>66700</td>\n",
       "      <td>155450</td>\n",
       "      <td>-1.181684</td>\n",
       "    </tr>\n",
       "    <tr>\n",
       "      <th>6461</th>\n",
       "      <td>1996.06.26</td>\n",
       "      <td>67700</td>\n",
       "      <td>200</td>\n",
       "      <td>67600</td>\n",
       "      <td>67900</td>\n",
       "      <td>66000</td>\n",
       "      <td>136630</td>\n",
       "      <td>0.296296</td>\n",
       "    </tr>\n",
       "    <tr>\n",
       "      <th>6462</th>\n",
       "      <td>1996.06.25</td>\n",
       "      <td>67500</td>\n",
       "      <td>0</td>\n",
       "      <td>66500</td>\n",
       "      <td>68300</td>\n",
       "      <td>65600</td>\n",
       "      <td>112960</td>\n",
       "      <td>0.000000</td>\n",
       "    </tr>\n",
       "  </tbody>\n",
       "</table>\n",
       "<p>6463 rows × 8 columns</p>\n",
       "</div>"
      ],
      "text/plain": [
       "              날짜     종가   전일비     시가     고가     저가       거래량  일간변동률(%)\n",
       "0     2022.03.23  70500   200  70600  71200  70300  12332242  0.284495\n",
       "1     2022.03.22  70300   400  69900  70500  69900   9402666  0.572246\n",
       "2     2022.03.21  69900   800  70900  71000  69900  11169002 -1.131542\n",
       "3     2022.03.18  70700   500  70600  70900  70200  14410038 -0.702247\n",
       "4     2022.03.17  71200   800  71200  71800  70900  17646315  1.136364\n",
       "...          ...    ...   ...    ...    ...    ...       ...       ...\n",
       "6458  1996.06.29  68500   400  68100  69100  67100     96710  0.587372\n",
       "6459  1996.06.28  68100  1200  67300  68500  67200    138430  1.793722\n",
       "6460  1996.06.27  66900   800  67500  67700  66700    155450 -1.181684\n",
       "6461  1996.06.26  67700   200  67600  67900  66000    136630  0.296296\n",
       "6462  1996.06.25  67500     0  66500  68300  65600    112960  0.000000\n",
       "\n",
       "[6463 rows x 8 columns]"
      ]
     },
     "execution_count": 10,
     "metadata": {},
     "output_type": "execute_result"
    }
   ],
   "source": [
    "df"
   ]
  },
  {
   "cell_type": "code",
   "execution_count": 11,
   "id": "68e9efea",
   "metadata": {
    "scrolled": false
   },
   "outputs": [
    {
     "data": {
      "text/html": [
       "<div>\n",
       "<style scoped>\n",
       "    .dataframe tbody tr th:only-of-type {\n",
       "        vertical-align: middle;\n",
       "    }\n",
       "\n",
       "    .dataframe tbody tr th {\n",
       "        vertical-align: top;\n",
       "    }\n",
       "\n",
       "    .dataframe thead th {\n",
       "        text-align: right;\n",
       "    }\n",
       "</style>\n",
       "<table border=\"1\" class=\"dataframe\">\n",
       "  <thead>\n",
       "    <tr style=\"text-align: right;\">\n",
       "      <th></th>\n",
       "      <th>날짜</th>\n",
       "      <th>종가</th>\n",
       "      <th>전일비</th>\n",
       "      <th>시가</th>\n",
       "      <th>고가</th>\n",
       "      <th>저가</th>\n",
       "      <th>거래량</th>\n",
       "      <th>일간변동률(%)</th>\n",
       "    </tr>\n",
       "  </thead>\n",
       "  <tbody>\n",
       "    <tr>\n",
       "      <th>0</th>\n",
       "      <td>2021.01.04</td>\n",
       "      <td>83000</td>\n",
       "      <td>2000</td>\n",
       "      <td>81000</td>\n",
       "      <td>84400</td>\n",
       "      <td>80200</td>\n",
       "      <td>38655276</td>\n",
       "      <td>2.469136</td>\n",
       "    </tr>\n",
       "    <tr>\n",
       "      <th>1</th>\n",
       "      <td>2021.01.05</td>\n",
       "      <td>83900</td>\n",
       "      <td>900</td>\n",
       "      <td>81600</td>\n",
       "      <td>83900</td>\n",
       "      <td>81600</td>\n",
       "      <td>35335669</td>\n",
       "      <td>1.084337</td>\n",
       "    </tr>\n",
       "    <tr>\n",
       "      <th>2</th>\n",
       "      <td>2021.01.06</td>\n",
       "      <td>82200</td>\n",
       "      <td>1700</td>\n",
       "      <td>83300</td>\n",
       "      <td>84500</td>\n",
       "      <td>82100</td>\n",
       "      <td>42089013</td>\n",
       "      <td>-2.026222</td>\n",
       "    </tr>\n",
       "    <tr>\n",
       "      <th>3</th>\n",
       "      <td>2021.01.07</td>\n",
       "      <td>82900</td>\n",
       "      <td>700</td>\n",
       "      <td>82800</td>\n",
       "      <td>84200</td>\n",
       "      <td>82700</td>\n",
       "      <td>32644642</td>\n",
       "      <td>0.851582</td>\n",
       "    </tr>\n",
       "    <tr>\n",
       "      <th>4</th>\n",
       "      <td>2021.01.08</td>\n",
       "      <td>88800</td>\n",
       "      <td>5900</td>\n",
       "      <td>83300</td>\n",
       "      <td>90000</td>\n",
       "      <td>83000</td>\n",
       "      <td>59013307</td>\n",
       "      <td>7.117008</td>\n",
       "    </tr>\n",
       "    <tr>\n",
       "      <th>...</th>\n",
       "      <td>...</td>\n",
       "      <td>...</td>\n",
       "      <td>...</td>\n",
       "      <td>...</td>\n",
       "      <td>...</td>\n",
       "      <td>...</td>\n",
       "      <td>...</td>\n",
       "      <td>...</td>\n",
       "    </tr>\n",
       "    <tr>\n",
       "      <th>296</th>\n",
       "      <td>2022.03.17</td>\n",
       "      <td>71200</td>\n",
       "      <td>800</td>\n",
       "      <td>71200</td>\n",
       "      <td>71800</td>\n",
       "      <td>70900</td>\n",
       "      <td>17646315</td>\n",
       "      <td>1.136364</td>\n",
       "    </tr>\n",
       "    <tr>\n",
       "      <th>297</th>\n",
       "      <td>2022.03.18</td>\n",
       "      <td>70700</td>\n",
       "      <td>500</td>\n",
       "      <td>70600</td>\n",
       "      <td>70900</td>\n",
       "      <td>70200</td>\n",
       "      <td>14410038</td>\n",
       "      <td>-0.702247</td>\n",
       "    </tr>\n",
       "    <tr>\n",
       "      <th>298</th>\n",
       "      <td>2022.03.21</td>\n",
       "      <td>69900</td>\n",
       "      <td>800</td>\n",
       "      <td>70900</td>\n",
       "      <td>71000</td>\n",
       "      <td>69900</td>\n",
       "      <td>11169002</td>\n",
       "      <td>-1.131542</td>\n",
       "    </tr>\n",
       "    <tr>\n",
       "      <th>299</th>\n",
       "      <td>2022.03.22</td>\n",
       "      <td>70300</td>\n",
       "      <td>400</td>\n",
       "      <td>69900</td>\n",
       "      <td>70500</td>\n",
       "      <td>69900</td>\n",
       "      <td>9402666</td>\n",
       "      <td>0.572246</td>\n",
       "    </tr>\n",
       "    <tr>\n",
       "      <th>300</th>\n",
       "      <td>2022.03.23</td>\n",
       "      <td>70500</td>\n",
       "      <td>200</td>\n",
       "      <td>70600</td>\n",
       "      <td>71200</td>\n",
       "      <td>70300</td>\n",
       "      <td>12332242</td>\n",
       "      <td>0.284495</td>\n",
       "    </tr>\n",
       "  </tbody>\n",
       "</table>\n",
       "<p>301 rows × 8 columns</p>\n",
       "</div>"
      ],
      "text/plain": [
       "             날짜     종가   전일비     시가     고가     저가       거래량  일간변동률(%)\n",
       "0    2021.01.04  83000  2000  81000  84400  80200  38655276  2.469136\n",
       "1    2021.01.05  83900   900  81600  83900  81600  35335669  1.084337\n",
       "2    2021.01.06  82200  1700  83300  84500  82100  42089013 -2.026222\n",
       "3    2021.01.07  82900   700  82800  84200  82700  32644642  0.851582\n",
       "4    2021.01.08  88800  5900  83300  90000  83000  59013307  7.117008\n",
       "..          ...    ...   ...    ...    ...    ...       ...       ...\n",
       "296  2022.03.17  71200   800  71200  71800  70900  17646315  1.136364\n",
       "297  2022.03.18  70700   500  70600  70900  70200  14410038 -0.702247\n",
       "298  2022.03.21  69900   800  70900  71000  69900  11169002 -1.131542\n",
       "299  2022.03.22  70300   400  69900  70500  69900   9402666  0.572246\n",
       "300  2022.03.23  70500   200  70600  71200  70300  12332242  0.284495\n",
       "\n",
       "[301 rows x 8 columns]"
      ]
     },
     "execution_count": 11,
     "metadata": {},
     "output_type": "execute_result"
    }
   ],
   "source": [
    "df_target = df.loc[0:300]\n",
    "df_target = df_target.loc[::-1]\n",
    "df_target.reset_index(drop=True, inplace=True)\n",
    "df_target"
   ]
  },
  {
   "cell_type": "code",
   "execution_count": 12,
   "id": "b19caf7f",
   "metadata": {},
   "outputs": [
    {
     "data": {
      "text/plain": [
       "0       2.469136\n",
       "1       3.553473\n",
       "2       1.527251\n",
       "3       2.378833\n",
       "4       9.495841\n",
       "         ...    \n",
       "296   -10.200553\n",
       "297   -10.902800\n",
       "298   -12.034342\n",
       "299   -11.462096\n",
       "300   -11.177601\n",
       "Name: 일간변동률(%), Length: 301, dtype: float64"
      ]
     },
     "execution_count": 12,
     "metadata": {},
     "output_type": "execute_result"
    }
   ],
   "source": [
    "cs = df_target['일간변동률(%)'].cumsum()\n",
    "cs"
   ]
  },
  {
   "cell_type": "code",
   "execution_count": 13,
   "id": "c72768c9",
   "metadata": {
    "scrolled": false
   },
   "outputs": [],
   "source": [
    "import matplotlib.pyplot as plt\n",
    "%matplotlib inline"
   ]
  },
  {
   "cell_type": "code",
   "execution_count": 14,
   "id": "a9e9cbba",
   "metadata": {},
   "outputs": [
    {
     "data": {
      "image/png": "[encoded data removed]",
      "text/plain": [
       "<Figure size 720x576 with 1 Axes>"
      ]
     },
     "metadata": {
      "needs_background": "light"
     },
     "output_type": "display_data"
    }
   ],
   "source": [
    "plt.figure(figsize=(10,8))\n",
    "plt.plot(df_target['날짜'], cs, 'b', label='daily change(Samsung)')\n",
    "plt.ylabel('Change %')\n",
    "plt.grid(True)\n",
    "plt.legend(loc='best')\n",
    "plt.xticks(range(0, 301, 50))\n",
    "plt.show()"
   ]
  }
 ],
 "metadata": {
  "kernelspec": {
   "display_name": "Python 3 (ipykernel)",
   "language": "python",
   "name": "python3"
  },
  "language_info": {
   "codemirror_mode": {
    "name": "ipython",
    "version": 3
   },
   "file_extension": ".py",
   "mimetype": "text/x-python",
   "name": "python",
   "nbconvert_exporter": "python",
   "pygments_lexer": "ipython3",
   "version": "3.8.5"
  }
 },
 "nbformat": 4,
 "nbformat_minor": 5
}
