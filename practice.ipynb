{
 "cells": [
  {
   "cell_type": "code",
   "execution_count": 1,
   "id": "0cbc0588",
   "metadata": {},
   "outputs": [],
   "source": [
    "import pandas as pd"
   ]
  },
  {
   "cell_type": "markdown",
   "id": "9bf99d61",
   "metadata": {},
   "source": [
    "### 상장 목록 받아오기"
   ]
  },
  {
   "cell_type": "code",
   "execution_count": 2,
   "id": "ab66e3aa",
   "metadata": {
    "scrolled": false
   },
   "outputs": [],
   "source": [
    "df = pd.read_html('https://kind.krx.co.kr/corpgeneral/corpList.do?method=download&searchType=13')[0]"
   ]
  },
  {
   "cell_type": "code",
   "execution_count": 3,
   "id": "f7ebb0d5",
   "metadata": {
    "scrolled": false
   },
   "outputs": [
    {
     "data": {
      "text/html": [
       "<div>\n",
       "<style scoped>\n",
       "    .dataframe tbody tr th:only-of-type {\n",
       "        vertical-align: middle;\n",
       "    }\n",
       "\n",
       "    .dataframe tbody tr th {\n",
       "        vertical-align: top;\n",
       "    }\n",
       "\n",
       "    .dataframe thead th {\n",
       "        text-align: right;\n",
       "    }\n",
       "</style>\n",
       "<table border=\"1\" class=\"dataframe\">\n",
       "  <thead>\n",
       "    <tr style=\"text-align: right;\">\n",
       "      <th></th>\n",
       "      <th>회사명</th>\n",
       "      <th>종목코드</th>\n",
       "      <th>업종</th>\n",
       "      <th>주요제품</th>\n",
       "      <th>상장일</th>\n",
       "      <th>결산월</th>\n",
       "      <th>대표자명</th>\n",
       "      <th>홈페이지</th>\n",
       "      <th>지역</th>\n",
       "    </tr>\n",
       "  </thead>\n",
       "  <tbody>\n",
       "    <tr>\n",
       "      <th>0</th>\n",
       "      <td>DL</td>\n",
       "      <td>210</td>\n",
       "      <td>기타 금융업</td>\n",
       "      <td>지주회사</td>\n",
       "      <td>1976-02-02</td>\n",
       "      <td>12월</td>\n",
       "      <td>전병욱</td>\n",
       "      <td>http://www.dlholdings.co.kr</td>\n",
       "      <td>서울특별시</td>\n",
       "    </tr>\n",
       "    <tr>\n",
       "      <th>1</th>\n",
       "      <td>DRB동일</td>\n",
       "      <td>4840</td>\n",
       "      <td>고무제품 제조업</td>\n",
       "      <td>고무벨트(V벨트,콘베이어벨트,평벨트),프라스틱제품 제조,판매</td>\n",
       "      <td>1976-05-21</td>\n",
       "      <td>12월</td>\n",
       "      <td>류영식</td>\n",
       "      <td>http://drbworld.com</td>\n",
       "      <td>부산광역시</td>\n",
       "    </tr>\n",
       "    <tr>\n",
       "      <th>2</th>\n",
       "      <td>DSR</td>\n",
       "      <td>155660</td>\n",
       "      <td>1차 비철금속 제조업</td>\n",
       "      <td>합섬섬유로프</td>\n",
       "      <td>2013-05-15</td>\n",
       "      <td>12월</td>\n",
       "      <td>홍석빈</td>\n",
       "      <td>http://www.dsr.com</td>\n",
       "      <td>부산광역시</td>\n",
       "    </tr>\n",
       "    <tr>\n",
       "      <th>3</th>\n",
       "      <td>GS</td>\n",
       "      <td>78930</td>\n",
       "      <td>기타 금융업</td>\n",
       "      <td>지주회사/부동산 임대</td>\n",
       "      <td>2004-08-05</td>\n",
       "      <td>12월</td>\n",
       "      <td>허태수, 홍순기 (각자 대표이사)</td>\n",
       "      <td>NaN</td>\n",
       "      <td>서울특별시</td>\n",
       "    </tr>\n",
       "    <tr>\n",
       "      <th>4</th>\n",
       "      <td>GS글로벌</td>\n",
       "      <td>1250</td>\n",
       "      <td>상품 종합 도매업</td>\n",
       "      <td>수출입업(시멘트,철강금속,전기전자,섬유,기계화학),상품중개,광업,채석업/하수처리 서...</td>\n",
       "      <td>1976-06-26</td>\n",
       "      <td>12월</td>\n",
       "      <td>김태형</td>\n",
       "      <td>http://www.gsgcorp.com</td>\n",
       "      <td>서울특별시</td>\n",
       "    </tr>\n",
       "  </tbody>\n",
       "</table>\n",
       "</div>"
      ],
      "text/plain": [
       "     회사명    종목코드           업종  \\\n",
       "0     DL     210       기타 금융업   \n",
       "1  DRB동일    4840     고무제품 제조업   \n",
       "2    DSR  155660  1차 비철금속 제조업   \n",
       "3     GS   78930       기타 금융업   \n",
       "4  GS글로벌    1250    상품 종합 도매업   \n",
       "\n",
       "                                                주요제품         상장일  결산월  \\\n",
       "0                                               지주회사  1976-02-02  12월   \n",
       "1                  고무벨트(V벨트,콘베이어벨트,평벨트),프라스틱제품 제조,판매  1976-05-21  12월   \n",
       "2                                             합섬섬유로프  2013-05-15  12월   \n",
       "3                                        지주회사/부동산 임대  2004-08-05  12월   \n",
       "4  수출입업(시멘트,철강금속,전기전자,섬유,기계화학),상품중개,광업,채석업/하수처리 서...  1976-06-26  12월   \n",
       "\n",
       "                 대표자명                         홈페이지     지역  \n",
       "0                 전병욱  http://www.dlholdings.co.kr  서울특별시  \n",
       "1                 류영식          http://drbworld.com  부산광역시  \n",
       "2                 홍석빈           http://www.dsr.com  부산광역시  \n",
       "3  허태수, 홍순기 (각자 대표이사)                          NaN  서울특별시  \n",
       "4                 김태형       http://www.gsgcorp.com  서울특별시  "
      ]
     },
     "execution_count": 3,
     "metadata": {},
     "output_type": "execute_result"
    }
   ],
   "source": [
    "df.head()"
   ]
  },
  {
   "cell_type": "code",
   "execution_count": 4,
   "id": "ed571c8b",
   "metadata": {},
   "outputs": [],
   "source": [
    "df['종목코드'] = df['종목코드'].map('{:06d}'.format)"
   ]
  },
  {
   "cell_type": "code",
   "execution_count": 5,
   "id": "b9961a20",
   "metadata": {},
   "outputs": [],
   "source": [
    "df = df.sort_values(by='종목코드')"
   ]
  },
  {
   "cell_type": "code",
   "execution_count": 6,
   "id": "3db65605",
   "metadata": {
    "scrolled": true
   },
   "outputs": [
    {
     "data": {
      "text/html": [
       "<div>\n",
       "<style scoped>\n",
       "    .dataframe tbody tr th:only-of-type {\n",
       "        vertical-align: middle;\n",
       "    }\n",
       "\n",
       "    .dataframe tbody tr th {\n",
       "        vertical-align: top;\n",
       "    }\n",
       "\n",
       "    .dataframe thead th {\n",
       "        text-align: right;\n",
       "    }\n",
       "</style>\n",
       "<table border=\"1\" class=\"dataframe\">\n",
       "  <thead>\n",
       "    <tr style=\"text-align: right;\">\n",
       "      <th></th>\n",
       "      <th>회사명</th>\n",
       "      <th>종목코드</th>\n",
       "      <th>업종</th>\n",
       "      <th>주요제품</th>\n",
       "      <th>상장일</th>\n",
       "      <th>결산월</th>\n",
       "      <th>대표자명</th>\n",
       "      <th>홈페이지</th>\n",
       "      <th>지역</th>\n",
       "    </tr>\n",
       "  </thead>\n",
       "  <tbody>\n",
       "    <tr>\n",
       "      <th>952</th>\n",
       "      <td>동화약품</td>\n",
       "      <td>000020</td>\n",
       "      <td>의약품 제조업</td>\n",
       "      <td>의약품 제조,판매,수출입</td>\n",
       "      <td>1976-03-24</td>\n",
       "      <td>12월</td>\n",
       "      <td>유준하</td>\n",
       "      <td>http://www.dong-wha.co.kr</td>\n",
       "      <td>서울특별시</td>\n",
       "    </tr>\n",
       "    <tr>\n",
       "      <th>315</th>\n",
       "      <td>KR모터스</td>\n",
       "      <td>000040</td>\n",
       "      <td>그외 기타 운송장비 제조업</td>\n",
       "      <td>이륜차(오토바이) 제조,도매</td>\n",
       "      <td>1976-05-25</td>\n",
       "      <td>12월</td>\n",
       "      <td>노성석</td>\n",
       "      <td>http://www.krmotors.com</td>\n",
       "      <td>경상남도</td>\n",
       "    </tr>\n",
       "    <tr>\n",
       "      <th>1581</th>\n",
       "      <td>경방</td>\n",
       "      <td>000050</td>\n",
       "      <td>종합 소매업</td>\n",
       "      <td>섬유류(면사,면혼방사,면직물,면혼방직물,화섬사,화섬직물) 제조,도매,수출입</td>\n",
       "      <td>1956-03-03</td>\n",
       "      <td>12월</td>\n",
       "      <td>김준, 김담</td>\n",
       "      <td>http://www.kyungbang.co.kr</td>\n",
       "      <td>서울특별시</td>\n",
       "    </tr>\n",
       "    <tr>\n",
       "      <th>1602</th>\n",
       "      <td>메리츠화재</td>\n",
       "      <td>000060</td>\n",
       "      <td>보험업</td>\n",
       "      <td>손해보험(화재,해상,운송보험)</td>\n",
       "      <td>1956-07-02</td>\n",
       "      <td>12월</td>\n",
       "      <td>김용범</td>\n",
       "      <td>http://www.meritzfire.com</td>\n",
       "      <td>서울특별시</td>\n",
       "    </tr>\n",
       "    <tr>\n",
       "      <th>1606</th>\n",
       "      <td>삼양홀딩스</td>\n",
       "      <td>000070</td>\n",
       "      <td>기타 금융업</td>\n",
       "      <td>지주회사,경영자문컨설팅</td>\n",
       "      <td>1968-12-27</td>\n",
       "      <td>12월</td>\n",
       "      <td>엄태웅, 윤재엽</td>\n",
       "      <td>http://www.samyang.com</td>\n",
       "      <td>서울특별시</td>\n",
       "    </tr>\n",
       "  </tbody>\n",
       "</table>\n",
       "</div>"
      ],
      "text/plain": [
       "        회사명    종목코드              업종  \\\n",
       "952    동화약품  000020         의약품 제조업   \n",
       "315   KR모터스  000040  그외 기타 운송장비 제조업   \n",
       "1581     경방  000050          종합 소매업   \n",
       "1602  메리츠화재  000060             보험업   \n",
       "1606  삼양홀딩스  000070          기타 금융업   \n",
       "\n",
       "                                           주요제품         상장일  결산월      대표자명  \\\n",
       "952                               의약품 제조,판매,수출입  1976-03-24  12월       유준하   \n",
       "315                             이륜차(오토바이) 제조,도매  1976-05-25  12월       노성석   \n",
       "1581  섬유류(면사,면혼방사,면직물,면혼방직물,화섬사,화섬직물) 제조,도매,수출입  1956-03-03  12월    김준, 김담   \n",
       "1602                           손해보험(화재,해상,운송보험)  1956-07-02  12월       김용범   \n",
       "1606                               지주회사,경영자문컨설팅  1968-12-27  12월  엄태웅, 윤재엽   \n",
       "\n",
       "                            홈페이지     지역  \n",
       "952    http://www.dong-wha.co.kr  서울특별시  \n",
       "315      http://www.krmotors.com   경상남도  \n",
       "1581  http://www.kyungbang.co.kr  서울특별시  \n",
       "1602   http://www.meritzfire.com  서울특별시  \n",
       "1606      http://www.samyang.com  서울특별시  "
      ]
     },
     "execution_count": 6,
     "metadata": {},
     "output_type": "execute_result"
    }
   ],
   "source": [
    "df.head()"
   ]
  },
  {
   "cell_type": "markdown",
   "id": "b6f3aa94",
   "metadata": {},
   "source": [
    "### 일별 시세 구하기"
   ]
  },
  {
   "cell_type": "code",
   "execution_count": 17,
   "id": "ac35cef5",
   "metadata": {},
   "outputs": [],
   "source": [
    "from bs4 import BeautifulSoup\n",
    "import requests"
   ]
  },
  {
   "cell_type": "code",
   "execution_count": 22,
   "id": "b54c71c7",
   "metadata": {
    "scrolled": false
   },
   "outputs": [],
   "source": [
    "url = \"https://finance.naver.com/sise/sise_market_sum.nhn?page=1\"\n",
    "res = requests.get(url)\n",
    "soup = BeautifulSoup(res.text, 'lxml')\n",
    "\n",
    "# print(soup)"
   ]
  },
  {
   "cell_type": "code",
   "execution_count": 23,
   "id": "7b6019dd",
   "metadata": {},
   "outputs": [
    {
     "name": "stdout",
     "output_type": "stream",
     "text": [
      "['N', '종목명', '현재가', '전일비', '등락률', '액면가', '시가총액', '상장주식수', '외국인비율', '거래량', 'PER', 'ROE', '토론실']\n"
     ]
    }
   ],
   "source": [
    "stock_head = soup.find(\"thead\").find_all(\"th\")\n",
    "data_head = [head.get_text() for head in stock_head]\n",
    "\n",
    "print(data_head)"
   ]
  },
  {
   "cell_type": "code",
   "execution_count": null,
   "id": "f329d513",
   "metadata": {},
   "outputs": [],
   "source": []
  }
 ],
 "metadata": {
  "kernelspec": {
   "display_name": "Python 3 (ipykernel)",
   "language": "python",
   "name": "python3"
  },
  "language_info": {
   "codemirror_mode": {
    "name": "ipython",
    "version": 3
   },
   "file_extension": ".py",
   "mimetype": "text/x-python",
   "name": "python",
   "nbconvert_exporter": "python",
   "pygments_lexer": "ipython3",
   "version": "3.8.5"
  }
 },
 "nbformat": 4,
 "nbformat_minor": 5
}
