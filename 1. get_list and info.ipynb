{
 "cells": [
  {
   "cell_type": "code",
   "execution_count": 1,
   "id": "0cbc0588",
   "metadata": {},
   "outputs": [],
   "source": [
    "import pandas as pd"
   ]
  },
  {
   "cell_type": "markdown",
   "id": "9bf99d61",
   "metadata": {},
   "source": [
    "### 상장 목록 받아오기"
   ]
  },
  {
   "cell_type": "code",
   "execution_count": 2,
   "id": "ab66e3aa",
   "metadata": {},
   "outputs": [],
   "source": [
    "df = pd.read_html('https://kind.krx.co.kr/corpgeneral/corpList.do?method=download&searchType=13')[0]"
   ]
  },
  {
   "cell_type": "code",
   "execution_count": 3,
   "id": "f7ebb0d5",
   "metadata": {},
   "outputs": [
    {
     "data": {
      "text/html": [
       "<div>\n",
       "<style scoped>\n",
       "    .dataframe tbody tr th:only-of-type {\n",
       "        vertical-align: middle;\n",
       "    }\n",
       "\n",
       "    .dataframe tbody tr th {\n",
       "        vertical-align: top;\n",
       "    }\n",
       "\n",
       "    .dataframe thead th {\n",
       "        text-align: right;\n",
       "    }\n",
       "</style>\n",
       "<table border=\"1\" class=\"dataframe\">\n",
       "  <thead>\n",
       "    <tr style=\"text-align: right;\">\n",
       "      <th></th>\n",
       "      <th>회사명</th>\n",
       "      <th>종목코드</th>\n",
       "      <th>업종</th>\n",
       "      <th>주요제품</th>\n",
       "      <th>상장일</th>\n",
       "      <th>결산월</th>\n",
       "      <th>대표자명</th>\n",
       "      <th>홈페이지</th>\n",
       "      <th>지역</th>\n",
       "    </tr>\n",
       "  </thead>\n",
       "  <tbody>\n",
       "    <tr>\n",
       "      <th>0</th>\n",
       "      <td>DL</td>\n",
       "      <td>210</td>\n",
       "      <td>기타 금융업</td>\n",
       "      <td>지주회사</td>\n",
       "      <td>1976-02-02</td>\n",
       "      <td>12월</td>\n",
       "      <td>전병욱</td>\n",
       "      <td>http://www.dlholdings.co.kr</td>\n",
       "      <td>서울특별시</td>\n",
       "    </tr>\n",
       "    <tr>\n",
       "      <th>1</th>\n",
       "      <td>DRB동일</td>\n",
       "      <td>4840</td>\n",
       "      <td>고무제품 제조업</td>\n",
       "      <td>고무벨트(V벨트,콘베이어벨트,평벨트),프라스틱제품 제조,판매</td>\n",
       "      <td>1976-05-21</td>\n",
       "      <td>12월</td>\n",
       "      <td>류영식</td>\n",
       "      <td>http://drbworld.com</td>\n",
       "      <td>부산광역시</td>\n",
       "    </tr>\n",
       "    <tr>\n",
       "      <th>2</th>\n",
       "      <td>DSR</td>\n",
       "      <td>155660</td>\n",
       "      <td>1차 비철금속 제조업</td>\n",
       "      <td>합섬섬유로프</td>\n",
       "      <td>2013-05-15</td>\n",
       "      <td>12월</td>\n",
       "      <td>홍석빈</td>\n",
       "      <td>http://www.dsr.com</td>\n",
       "      <td>부산광역시</td>\n",
       "    </tr>\n",
       "    <tr>\n",
       "      <th>3</th>\n",
       "      <td>GS</td>\n",
       "      <td>78930</td>\n",
       "      <td>기타 금융업</td>\n",
       "      <td>지주회사/부동산 임대</td>\n",
       "      <td>2004-08-05</td>\n",
       "      <td>12월</td>\n",
       "      <td>허태수, 홍순기 (각자 대표이사)</td>\n",
       "      <td>NaN</td>\n",
       "      <td>서울특별시</td>\n",
       "    </tr>\n",
       "    <tr>\n",
       "      <th>4</th>\n",
       "      <td>GS글로벌</td>\n",
       "      <td>1250</td>\n",
       "      <td>상품 종합 도매업</td>\n",
       "      <td>수출입업(시멘트,철강금속,전기전자,섬유,기계화학),상품중개,광업,채석업/하수처리 서...</td>\n",
       "      <td>1976-06-26</td>\n",
       "      <td>12월</td>\n",
       "      <td>김태형</td>\n",
       "      <td>http://www.gsgcorp.com</td>\n",
       "      <td>서울특별시</td>\n",
       "    </tr>\n",
       "  </tbody>\n",
       "</table>\n",
       "</div>"
      ],
      "text/plain": [
       "     회사명    종목코드           업종  \\\n",
       "0     DL     210       기타 금융업   \n",
       "1  DRB동일    4840     고무제품 제조업   \n",
       "2    DSR  155660  1차 비철금속 제조업   \n",
       "3     GS   78930       기타 금융업   \n",
       "4  GS글로벌    1250    상품 종합 도매업   \n",
       "\n",
       "                                                주요제품         상장일  결산월  \\\n",
       "0                                               지주회사  1976-02-02  12월   \n",
       "1                  고무벨트(V벨트,콘베이어벨트,평벨트),프라스틱제품 제조,판매  1976-05-21  12월   \n",
       "2                                             합섬섬유로프  2013-05-15  12월   \n",
       "3                                        지주회사/부동산 임대  2004-08-05  12월   \n",
       "4  수출입업(시멘트,철강금속,전기전자,섬유,기계화학),상품중개,광업,채석업/하수처리 서...  1976-06-26  12월   \n",
       "\n",
       "                 대표자명                         홈페이지     지역  \n",
       "0                 전병욱  http://www.dlholdings.co.kr  서울특별시  \n",
       "1                 류영식          http://drbworld.com  부산광역시  \n",
       "2                 홍석빈           http://www.dsr.com  부산광역시  \n",
       "3  허태수, 홍순기 (각자 대표이사)                          NaN  서울특별시  \n",
       "4                 김태형       http://www.gsgcorp.com  서울특별시  "
      ]
     },
     "execution_count": 3,
     "metadata": {},
     "output_type": "execute_result"
    }
   ],
   "source": [
    "df.head()"
   ]
  },
  {
   "cell_type": "code",
   "execution_count": 4,
   "id": "ed571c8b",
   "metadata": {},
   "outputs": [],
   "source": [
    "df['종목코드'] = df['종목코드'].map('{:06d}'.format)"
   ]
  },
  {
   "cell_type": "code",
   "execution_count": 5,
   "id": "b9961a20",
   "metadata": {},
   "outputs": [],
   "source": [
    "df = df.sort_values(by='종목코드')"
   ]
  },
  {
   "cell_type": "code",
   "execution_count": 6,
   "id": "3db65605",
   "metadata": {
    "scrolled": true
   },
   "outputs": [
    {
     "data": {
      "text/html": [
       "<div>\n",
       "<style scoped>\n",
       "    .dataframe tbody tr th:only-of-type {\n",
       "        vertical-align: middle;\n",
       "    }\n",
       "\n",
       "    .dataframe tbody tr th {\n",
       "        vertical-align: top;\n",
       "    }\n",
       "\n",
       "    .dataframe thead th {\n",
       "        text-align: right;\n",
       "    }\n",
       "</style>\n",
       "<table border=\"1\" class=\"dataframe\">\n",
       "  <thead>\n",
       "    <tr style=\"text-align: right;\">\n",
       "      <th></th>\n",
       "      <th>회사명</th>\n",
       "      <th>종목코드</th>\n",
       "      <th>업종</th>\n",
       "      <th>주요제품</th>\n",
       "      <th>상장일</th>\n",
       "      <th>결산월</th>\n",
       "      <th>대표자명</th>\n",
       "      <th>홈페이지</th>\n",
       "      <th>지역</th>\n",
       "    </tr>\n",
       "  </thead>\n",
       "  <tbody>\n",
       "    <tr>\n",
       "      <th>955</th>\n",
       "      <td>동화약품</td>\n",
       "      <td>000020</td>\n",
       "      <td>의약품 제조업</td>\n",
       "      <td>의약품 제조,판매,수출입</td>\n",
       "      <td>1976-03-24</td>\n",
       "      <td>12월</td>\n",
       "      <td>유준하</td>\n",
       "      <td>http://www.dong-wha.co.kr</td>\n",
       "      <td>서울특별시</td>\n",
       "    </tr>\n",
       "    <tr>\n",
       "      <th>321</th>\n",
       "      <td>KR모터스</td>\n",
       "      <td>000040</td>\n",
       "      <td>그외 기타 운송장비 제조업</td>\n",
       "      <td>이륜차(오토바이) 제조,도매</td>\n",
       "      <td>1976-05-25</td>\n",
       "      <td>12월</td>\n",
       "      <td>노성석</td>\n",
       "      <td>http://www.krmotors.com</td>\n",
       "      <td>경상남도</td>\n",
       "    </tr>\n",
       "    <tr>\n",
       "      <th>1584</th>\n",
       "      <td>경방</td>\n",
       "      <td>000050</td>\n",
       "      <td>종합 소매업</td>\n",
       "      <td>섬유류(면사,면혼방사,면직물,면혼방직물,화섬사,화섬직물) 제조,도매,수출입</td>\n",
       "      <td>1956-03-03</td>\n",
       "      <td>12월</td>\n",
       "      <td>김준, 김담</td>\n",
       "      <td>http://www.kyungbang.co.kr</td>\n",
       "      <td>서울특별시</td>\n",
       "    </tr>\n",
       "    <tr>\n",
       "      <th>1606</th>\n",
       "      <td>메리츠화재</td>\n",
       "      <td>000060</td>\n",
       "      <td>보험업</td>\n",
       "      <td>손해보험(화재,해상,운송보험)</td>\n",
       "      <td>1956-07-02</td>\n",
       "      <td>12월</td>\n",
       "      <td>김용범</td>\n",
       "      <td>http://www.meritzfire.com</td>\n",
       "      <td>서울특별시</td>\n",
       "    </tr>\n",
       "    <tr>\n",
       "      <th>1610</th>\n",
       "      <td>삼양홀딩스</td>\n",
       "      <td>000070</td>\n",
       "      <td>기타 금융업</td>\n",
       "      <td>지주회사,경영자문컨설팅</td>\n",
       "      <td>1968-12-27</td>\n",
       "      <td>12월</td>\n",
       "      <td>엄태웅, 윤재엽</td>\n",
       "      <td>http://www.samyang.com</td>\n",
       "      <td>서울특별시</td>\n",
       "    </tr>\n",
       "  </tbody>\n",
       "</table>\n",
       "</div>"
      ],
      "text/plain": [
       "        회사명    종목코드              업종  \\\n",
       "955    동화약품  000020         의약품 제조업   \n",
       "321   KR모터스  000040  그외 기타 운송장비 제조업   \n",
       "1584     경방  000050          종합 소매업   \n",
       "1606  메리츠화재  000060             보험업   \n",
       "1610  삼양홀딩스  000070          기타 금융업   \n",
       "\n",
       "                                           주요제품         상장일  결산월      대표자명  \\\n",
       "955                               의약품 제조,판매,수출입  1976-03-24  12월       유준하   \n",
       "321                             이륜차(오토바이) 제조,도매  1976-05-25  12월       노성석   \n",
       "1584  섬유류(면사,면혼방사,면직물,면혼방직물,화섬사,화섬직물) 제조,도매,수출입  1956-03-03  12월    김준, 김담   \n",
       "1606                           손해보험(화재,해상,운송보험)  1956-07-02  12월       김용범   \n",
       "1610                               지주회사,경영자문컨설팅  1968-12-27  12월  엄태웅, 윤재엽   \n",
       "\n",
       "                            홈페이지     지역  \n",
       "955    http://www.dong-wha.co.kr  서울특별시  \n",
       "321      http://www.krmotors.com   경상남도  \n",
       "1584  http://www.kyungbang.co.kr  서울특별시  \n",
       "1606   http://www.meritzfire.com  서울특별시  \n",
       "1610      http://www.samyang.com  서울특별시  "
      ]
     },
     "execution_count": 6,
     "metadata": {},
     "output_type": "execute_result"
    }
   ],
   "source": [
    "df.head()"
   ]
  },
  {
   "cell_type": "markdown",
   "id": "b6f3aa94",
   "metadata": {},
   "source": [
    "### 일별 시세 구하기"
   ]
  },
  {
   "cell_type": "code",
   "execution_count": 7,
   "id": "ac35cef5",
   "metadata": {},
   "outputs": [],
   "source": [
    "from bs4 import BeautifulSoup\n",
    "import requests"
   ]
  },
  {
   "cell_type": "code",
   "execution_count": 8,
   "id": "f329d513",
   "metadata": {},
   "outputs": [],
   "source": [
    "code = '005930' # 삼성전자 코드\n",
    "url = f'https://finance.naver.com/item/sise_day.naver?code={code}'\n",
    "req = requests.get(url, headers={'User-agent': 'Mozilla/5.0'})\n",
    "html = BeautifulSoup(req.text, \"lxml\")"
   ]
  },
  {
   "cell_type": "code",
   "execution_count": 9,
   "id": "ef9bedac",
   "metadata": {},
   "outputs": [],
   "source": [
    "headers = {'User-agent': 'Mozilla/5.0'}"
   ]
  },
  {
   "cell_type": "code",
   "execution_count": 10,
   "id": "f231cea3",
   "metadata": {},
   "outputs": [
    {
     "name": "stdout",
     "output_type": "stream",
     "text": [
      "/item/sise_day.naver?code=005930&page=647\n"
     ]
    }
   ],
   "source": [
    "pgrr = html.find('td', class_='pgRR')\n",
    "print(pgrr.a['href'])"
   ]
  },
  {
   "cell_type": "code",
   "execution_count": 11,
   "id": "a2f9de33",
   "metadata": {},
   "outputs": [
    {
     "name": "stdout",
     "output_type": "stream",
     "text": [
      "<td class=\"pgRR\">\n",
      " <a href=\"/item/sise_day.naver?code=005930&amp;page=647\">\n",
      "  맨뒤\n",
      "  <img alt=\"\" border=\"0\" height=\"5\" src=\"https://ssl.pstatic.net/static/n/cmn/bu_pgarRR.gif\" width=\"8\"/>\n",
      " </a>\n",
      "</td>\n",
      "\n"
     ]
    }
   ],
   "source": [
    "# .prettify() 통해 getText 속성값을 계층적으로 보기좋게 출력 가능\n",
    "print(pgrr.prettify())"
   ]
  },
  {
   "cell_type": "code",
   "execution_count": 12,
   "id": "40abb1f4",
   "metadata": {},
   "outputs": [
    {
     "name": "stdout",
     "output_type": "stream",
     "text": [
      "\n",
      "맨뒤\n",
      "\t\t\t\t\n",
      "\n",
      "\n"
     ]
    }
   ],
   "source": [
    "print(pgrr.text)"
   ]
  },
  {
   "cell_type": "code",
   "execution_count": 13,
   "id": "2c20327b",
   "metadata": {},
   "outputs": [
    {
     "name": "stdout",
     "output_type": "stream",
     "text": [
      "['/item/sise_day.naver?code', '005930&page', '647']\n"
     ]
    }
   ],
   "source": [
    "s = pgrr.a['href'].split('=')\n",
    "print(s)"
   ]
  },
  {
   "cell_type": "code",
   "execution_count": 14,
   "id": "3c1edf42",
   "metadata": {},
   "outputs": [
    {
     "name": "stdout",
     "output_type": "stream",
     "text": [
      "647\n"
     ]
    }
   ],
   "source": [
    "last_page = s[-1]\n",
    "print(last_page)"
   ]
  },
  {
   "cell_type": "code",
   "execution_count": 15,
   "id": "370f62f9",
   "metadata": {},
   "outputs": [],
   "source": [
    "code = '005930' # 삼성전자 코드\n",
    "url = f'https://finance.naver.com/item/sise_day.naver?code={code}'\n",
    "df = None\n",
    "\n",
    "for page in range(1, int(last_page)+1):\n",
    "    req = requests.get(f'{url}&page={page}', headers=headers)\n",
    "    df = pd.concat([df, pd.read_html(req.text, encoding = 'euc-kr')[0]], ignore_index=True)"
   ]
  },
  {
   "cell_type": "code",
   "execution_count": 16,
   "id": "90c7b2c4",
   "metadata": {},
   "outputs": [],
   "source": [
    "# 데이터가 없는 행 일괄 삭제\n",
    "df.dropna(inplace = True)"
   ]
  },
  {
   "cell_type": "code",
   "execution_count": 17,
   "id": "5cba5308",
   "metadata": {},
   "outputs": [],
   "source": [
    "# 인덱스 재배열\n",
    "df.reset_index(drop=True, inplace=True)"
   ]
  },
  {
   "cell_type": "code",
   "execution_count": 18,
   "id": "2a6e2a29",
   "metadata": {},
   "outputs": [
    {
     "data": {
      "text/html": [
       "<div>\n",
       "<style scoped>\n",
       "    .dataframe tbody tr th:only-of-type {\n",
       "        vertical-align: middle;\n",
       "    }\n",
       "\n",
       "    .dataframe tbody tr th {\n",
       "        vertical-align: top;\n",
       "    }\n",
       "\n",
       "    .dataframe thead th {\n",
       "        text-align: right;\n",
       "    }\n",
       "</style>\n",
       "<table border=\"1\" class=\"dataframe\">\n",
       "  <thead>\n",
       "    <tr style=\"text-align: right;\">\n",
       "      <th></th>\n",
       "      <th>날짜</th>\n",
       "      <th>종가</th>\n",
       "      <th>전일비</th>\n",
       "      <th>시가</th>\n",
       "      <th>고가</th>\n",
       "      <th>저가</th>\n",
       "      <th>거래량</th>\n",
       "    </tr>\n",
       "  </thead>\n",
       "  <tbody>\n",
       "    <tr>\n",
       "      <th>0</th>\n",
       "      <td>2022.03.23</td>\n",
       "      <td>70500.0</td>\n",
       "      <td>200.0</td>\n",
       "      <td>70600.0</td>\n",
       "      <td>71200.0</td>\n",
       "      <td>70300.0</td>\n",
       "      <td>12332242.0</td>\n",
       "    </tr>\n",
       "    <tr>\n",
       "      <th>1</th>\n",
       "      <td>2022.03.22</td>\n",
       "      <td>70300.0</td>\n",
       "      <td>400.0</td>\n",
       "      <td>69900.0</td>\n",
       "      <td>70500.0</td>\n",
       "      <td>69900.0</td>\n",
       "      <td>9402666.0</td>\n",
       "    </tr>\n",
       "    <tr>\n",
       "      <th>2</th>\n",
       "      <td>2022.03.21</td>\n",
       "      <td>69900.0</td>\n",
       "      <td>800.0</td>\n",
       "      <td>70900.0</td>\n",
       "      <td>71000.0</td>\n",
       "      <td>69900.0</td>\n",
       "      <td>11169002.0</td>\n",
       "    </tr>\n",
       "    <tr>\n",
       "      <th>3</th>\n",
       "      <td>2022.03.18</td>\n",
       "      <td>70700.0</td>\n",
       "      <td>500.0</td>\n",
       "      <td>70600.0</td>\n",
       "      <td>70900.0</td>\n",
       "      <td>70200.0</td>\n",
       "      <td>14410038.0</td>\n",
       "    </tr>\n",
       "    <tr>\n",
       "      <th>4</th>\n",
       "      <td>2022.03.17</td>\n",
       "      <td>71200.0</td>\n",
       "      <td>800.0</td>\n",
       "      <td>71200.0</td>\n",
       "      <td>71800.0</td>\n",
       "      <td>70900.0</td>\n",
       "      <td>17646315.0</td>\n",
       "    </tr>\n",
       "    <tr>\n",
       "      <th>...</th>\n",
       "      <td>...</td>\n",
       "      <td>...</td>\n",
       "      <td>...</td>\n",
       "      <td>...</td>\n",
       "      <td>...</td>\n",
       "      <td>...</td>\n",
       "      <td>...</td>\n",
       "    </tr>\n",
       "    <tr>\n",
       "      <th>6458</th>\n",
       "      <td>1996.06.29</td>\n",
       "      <td>68500.0</td>\n",
       "      <td>400.0</td>\n",
       "      <td>68100.0</td>\n",
       "      <td>69100.0</td>\n",
       "      <td>67100.0</td>\n",
       "      <td>96710.0</td>\n",
       "    </tr>\n",
       "    <tr>\n",
       "      <th>6459</th>\n",
       "      <td>1996.06.28</td>\n",
       "      <td>68100.0</td>\n",
       "      <td>1200.0</td>\n",
       "      <td>67300.0</td>\n",
       "      <td>68500.0</td>\n",
       "      <td>67200.0</td>\n",
       "      <td>138430.0</td>\n",
       "    </tr>\n",
       "    <tr>\n",
       "      <th>6460</th>\n",
       "      <td>1996.06.27</td>\n",
       "      <td>66900.0</td>\n",
       "      <td>800.0</td>\n",
       "      <td>67500.0</td>\n",
       "      <td>67700.0</td>\n",
       "      <td>66700.0</td>\n",
       "      <td>155450.0</td>\n",
       "    </tr>\n",
       "    <tr>\n",
       "      <th>6461</th>\n",
       "      <td>1996.06.26</td>\n",
       "      <td>67700.0</td>\n",
       "      <td>200.0</td>\n",
       "      <td>67600.0</td>\n",
       "      <td>67900.0</td>\n",
       "      <td>66000.0</td>\n",
       "      <td>136630.0</td>\n",
       "    </tr>\n",
       "    <tr>\n",
       "      <th>6462</th>\n",
       "      <td>1996.06.25</td>\n",
       "      <td>67500.0</td>\n",
       "      <td>0.0</td>\n",
       "      <td>66500.0</td>\n",
       "      <td>68300.0</td>\n",
       "      <td>65600.0</td>\n",
       "      <td>112960.0</td>\n",
       "    </tr>\n",
       "  </tbody>\n",
       "</table>\n",
       "<p>6463 rows × 7 columns</p>\n",
       "</div>"
      ],
      "text/plain": [
       "              날짜       종가     전일비       시가       고가       저가         거래량\n",
       "0     2022.03.23  70500.0   200.0  70600.0  71200.0  70300.0  12332242.0\n",
       "1     2022.03.22  70300.0   400.0  69900.0  70500.0  69900.0   9402666.0\n",
       "2     2022.03.21  69900.0   800.0  70900.0  71000.0  69900.0  11169002.0\n",
       "3     2022.03.18  70700.0   500.0  70600.0  70900.0  70200.0  14410038.0\n",
       "4     2022.03.17  71200.0   800.0  71200.0  71800.0  70900.0  17646315.0\n",
       "...          ...      ...     ...      ...      ...      ...         ...\n",
       "6458  1996.06.29  68500.0   400.0  68100.0  69100.0  67100.0     96710.0\n",
       "6459  1996.06.28  68100.0  1200.0  67300.0  68500.0  67200.0    138430.0\n",
       "6460  1996.06.27  66900.0   800.0  67500.0  67700.0  66700.0    155450.0\n",
       "6461  1996.06.26  67700.0   200.0  67600.0  67900.0  66000.0    136630.0\n",
       "6462  1996.06.25  67500.0     0.0  66500.0  68300.0  65600.0    112960.0\n",
       "\n",
       "[6463 rows x 7 columns]"
      ]
     },
     "execution_count": 18,
     "metadata": {},
     "output_type": "execute_result"
    }
   ],
   "source": [
    "df # 삼성전자 일별 시세"
   ]
  },
  {
   "cell_type": "code",
   "execution_count": 19,
   "id": "def76069",
   "metadata": {},
   "outputs": [],
   "source": [
    "df.to_excel(\"samsung_price.xlsx\", index=False)"
   ]
  }
 ],
 "metadata": {
  "kernelspec": {
   "display_name": "Python 3 (ipykernel)",
   "language": "python",
   "name": "python3"
  },
  "language_info": {
   "codemirror_mode": {
    "name": "ipython",
    "version": 3
   },
   "file_extension": ".py",
   "mimetype": "text/x-python",
   "name": "python",
   "nbconvert_exporter": "python",
   "pygments_lexer": "ipython3",
   "version": "3.8.16"
  }
 },
 "nbformat": 4,
 "nbformat_minor": 5
}
