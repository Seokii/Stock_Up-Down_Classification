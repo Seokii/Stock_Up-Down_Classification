{
 "cells": [
  {
   "cell_type": "markdown",
   "id": "ffea35f6-31d8-41cc-aa8b-119fb8668622",
   "metadata": {
    "tags": []
   },
   "source": [
    "## 기본 코드"
   ]
  },
  {
   "cell_type": "code",
   "execution_count": 4,
   "id": "45f53fd1-21b4-452c-8ac8-ec1ce0b537e1",
   "metadata": {},
   "outputs": [],
   "source": [
    "import pandas as pd"
   ]
  },
  {
   "cell_type": "code",
   "execution_count": 5,
   "id": "109c4c5b-a772-4bee-9042-4cbb64db0bd2",
   "metadata": {},
   "outputs": [],
   "source": [
    "def get_stocks(market=None):\n",
    "    market_type = ''\n",
    "    if market == 'kospi':\n",
    "        market_type = '&marketType=stockMkt'\n",
    "    elif market == 'kosdaq':\n",
    "        market_type = '&marketType=kosdaqMkt'\n",
    "    elif market == 'konex':\n",
    "        market_type = '&marketType=konexMkt'\n",
    "        \n",
    "    url = 'http://kind.krx.co.kr/corpgeneral/corpList.do?currentPageSize=3000&pageIndex=1&method=download&searchType=13{market_type}'.format(market_type=market_type)\n",
    "    \n",
    "    list_df_stocks = pd.read_html(url, header=0, converters={'종목코드': lambda x: str(x)})\n",
    "    df_stocks = list_df_stocks[0]\n",
    "    \n",
    "    return df_stocks"
   ]
  },
  {
   "cell_type": "code",
   "execution_count": 6,
   "id": "66e80aa5-c38f-4630-9f7d-07be73eee532",
   "metadata": {},
   "outputs": [],
   "source": [
    "df = get_stocks(market='kospi')"
   ]
  },
  {
   "cell_type": "code",
   "execution_count": 8,
   "id": "d6ce66e7-8e5a-4797-98bc-c670d4df8f30",
   "metadata": {},
   "outputs": [
    {
     "data": {
      "text/html": [
       "<div>\n",
       "<style scoped>\n",
       "    .dataframe tbody tr th:only-of-type {\n",
       "        vertical-align: middle;\n",
       "    }\n",
       "\n",
       "    .dataframe tbody tr th {\n",
       "        vertical-align: top;\n",
       "    }\n",
       "\n",
       "    .dataframe thead th {\n",
       "        text-align: right;\n",
       "    }\n",
       "</style>\n",
       "<table border=\"1\" class=\"dataframe\">\n",
       "  <thead>\n",
       "    <tr style=\"text-align: right;\">\n",
       "      <th></th>\n",
       "      <th>회사명</th>\n",
       "      <th>종목코드</th>\n",
       "      <th>업종</th>\n",
       "      <th>주요제품</th>\n",
       "      <th>상장일</th>\n",
       "      <th>결산월</th>\n",
       "      <th>대표자명</th>\n",
       "      <th>홈페이지</th>\n",
       "      <th>지역</th>\n",
       "    </tr>\n",
       "  </thead>\n",
       "  <tbody>\n",
       "    <tr>\n",
       "      <th>0</th>\n",
       "      <td>DRB동일</td>\n",
       "      <td>004840</td>\n",
       "      <td>고무제품 제조업</td>\n",
       "      <td>고무벨트(V벨트,콘베이어벨트,평벨트),프라스틱제품 제조,판매</td>\n",
       "      <td>1976-05-21</td>\n",
       "      <td>12월</td>\n",
       "      <td>류영식</td>\n",
       "      <td>http://drbworld.com</td>\n",
       "      <td>부산광역시</td>\n",
       "    </tr>\n",
       "    <tr>\n",
       "      <th>1</th>\n",
       "      <td>DSR</td>\n",
       "      <td>155660</td>\n",
       "      <td>1차 비철금속 제조업</td>\n",
       "      <td>합섬섬유로프</td>\n",
       "      <td>2013-05-15</td>\n",
       "      <td>12월</td>\n",
       "      <td>홍석빈</td>\n",
       "      <td>http://www.dsr.com</td>\n",
       "      <td>부산광역시</td>\n",
       "    </tr>\n",
       "    <tr>\n",
       "      <th>2</th>\n",
       "      <td>GS</td>\n",
       "      <td>078930</td>\n",
       "      <td>기타 금융업</td>\n",
       "      <td>지주회사/부동산 임대</td>\n",
       "      <td>2004-08-05</td>\n",
       "      <td>12월</td>\n",
       "      <td>허태수, 홍순기 (각자 대표이사)</td>\n",
       "      <td>NaN</td>\n",
       "      <td>서울특별시</td>\n",
       "    </tr>\n",
       "    <tr>\n",
       "      <th>3</th>\n",
       "      <td>HDC현대산업개발</td>\n",
       "      <td>294870</td>\n",
       "      <td>건물 건설업</td>\n",
       "      <td>외주주택, 자체공사, 일반건축, 토목 등</td>\n",
       "      <td>2018-06-12</td>\n",
       "      <td>12월</td>\n",
       "      <td>최익훈, 정익희, 김회언 (각자 대표이사)</td>\n",
       "      <td>http://www.hdc-dvp.com</td>\n",
       "      <td>서울특별시</td>\n",
       "    </tr>\n",
       "    <tr>\n",
       "      <th>4</th>\n",
       "      <td>KG케미칼</td>\n",
       "      <td>001390</td>\n",
       "      <td>기초 화학물질 제조업</td>\n",
       "      <td>콘크리트혼화제, 비료, 친환경농자재, 수처리제</td>\n",
       "      <td>1989-08-25</td>\n",
       "      <td>12월</td>\n",
       "      <td>곽정현, 김재익</td>\n",
       "      <td>http://www.kgchem.co.kr</td>\n",
       "      <td>울산광역시</td>\n",
       "    </tr>\n",
       "  </tbody>\n",
       "</table>\n",
       "</div>"
      ],
      "text/plain": [
       "         회사명    종목코드           업종                               주요제품  \\\n",
       "0      DRB동일  004840     고무제품 제조업  고무벨트(V벨트,콘베이어벨트,평벨트),프라스틱제품 제조,판매   \n",
       "1        DSR  155660  1차 비철금속 제조업                             합섬섬유로프   \n",
       "2         GS  078930       기타 금융업                        지주회사/부동산 임대   \n",
       "3  HDC현대산업개발  294870       건물 건설업             외주주택, 자체공사, 일반건축, 토목 등   \n",
       "4      KG케미칼  001390  기초 화학물질 제조업          콘크리트혼화제, 비료, 친환경농자재, 수처리제   \n",
       "\n",
       "          상장일  결산월                     대표자명                     홈페이지     지역  \n",
       "0  1976-05-21  12월                      류영식      http://drbworld.com  부산광역시  \n",
       "1  2013-05-15  12월                      홍석빈       http://www.dsr.com  부산광역시  \n",
       "2  2004-08-05  12월       허태수, 홍순기 (각자 대표이사)                      NaN  서울특별시  \n",
       "3  2018-06-12  12월  최익훈, 정익희, 김회언 (각자 대표이사)   http://www.hdc-dvp.com  서울특별시  \n",
       "4  1989-08-25  12월                 곽정현, 김재익  http://www.kgchem.co.kr  울산광역시  "
      ]
     },
     "execution_count": 8,
     "metadata": {},
     "output_type": "execute_result"
    }
   ],
   "source": [
    "df.head()"
   ]
  },
  {
   "cell_type": "code",
   "execution_count": 9,
   "id": "61a896a2-9abb-46d0-a142-072e5eee9ada",
   "metadata": {},
   "outputs": [
    {
     "data": {
      "text/plain": [
       "(826, 9)"
      ]
     },
     "execution_count": 9,
     "metadata": {},
     "output_type": "execute_result"
    }
   ],
   "source": [
    "df.shape"
   ]
  },
  {
   "cell_type": "code",
   "execution_count": 12,
   "id": "d0a370b7-169c-4022-8e8d-1a7c54195660",
   "metadata": {},
   "outputs": [],
   "source": [
    "df.to_csv('kospi_list.csv', index=False)"
   ]
  },
  {
   "cell_type": "code",
   "execution_count": null,
   "id": "3b468600-c5e3-4cb5-a802-f101821b3eb8",
   "metadata": {},
   "outputs": [],
   "source": []
  }
 ],
 "metadata": {
  "kernelspec": {
   "display_name": "Python 3 (ipykernel)",
   "language": "python",
   "name": "python3"
  },
  "language_info": {
   "codemirror_mode": {
    "name": "ipython",
    "version": 3
   },
   "file_extension": ".py",
   "mimetype": "text/x-python",
   "name": "python",
   "nbconvert_exporter": "python",
   "pygments_lexer": "ipython3",
   "version": "3.8.16"
  }
 },
 "nbformat": 4,
 "nbformat_minor": 5
}
